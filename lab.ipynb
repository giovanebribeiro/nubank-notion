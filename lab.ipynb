{
 "cells": [
  {
   "cell_type": "code",
   "execution_count": 9,
   "metadata": {},
   "outputs": [
    {
     "name": "stdout",
     "output_type": "stream",
     "text": [
      "[0]\n"
     ]
    }
   ],
   "source": [
    "total = 1\n",
    "print([e for e in range(0, total)])"
   ]
  },
  {
   "cell_type": "code",
   "execution_count": 7,
   "metadata": {},
   "outputs": [
    {
     "name": "stdout",
     "output_type": "stream",
     "text": [
      "['2024-02-16T21:33:26Z', '2024-03-17T21:33:26Z', '2024-04-16T21:33:26Z']\n"
     ]
    }
   ],
   "source": [
    "from datetime import datetime, timedelta\n",
    "\n",
    "total_charges = 3\n",
    "tt = datetime.now()\n",
    "\n",
    "out = []\n",
    "charges = { \"amount\": 30}\n",
    "\n",
    "for c in range(0, total_charges):\n",
    "\tta = charges.get(\"ammount\")\n",
    "\n",
    "\tnew_tt = tt\n",
    "\tif total_charges > 1 and c > 0:\n",
    "\t\tnext_days = 30*c\n",
    "\t\tnew_tt = tt + timedelta(days=next_days)\n",
    "\t\n",
    "\tout.append(new_tt.strftime(\"%Y-%m-%dT%H:%M:%SZ\"))\n",
    "\n",
    "print([element for element in out])\n",
    "\t\t\n"
   ]
  }
 ],
 "metadata": {
  "kernelspec": {
   "display_name": "Python 3",
   "language": "python",
   "name": "python3"
  },
  "language_info": {
   "codemirror_mode": {
    "name": "ipython",
    "version": 3
   },
   "file_extension": ".py",
   "mimetype": "text/x-python",
   "name": "python",
   "nbconvert_exporter": "python",
   "pygments_lexer": "ipython3",
   "version": "3.8.10"
  }
 },
 "nbformat": 4,
 "nbformat_minor": 2
}
