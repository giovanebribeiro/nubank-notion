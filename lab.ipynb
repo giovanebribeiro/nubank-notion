{
 "cells": [
  {
   "cell_type": "code",
   "execution_count": 9,
   "metadata": {},
   "outputs": [
    {
     "name": "stdout",
     "output_type": "stream",
     "text": [
      "[0]\n"
     ]
    }
   ],
   "source": [
    "total = 1\n",
    "print([e for e in range(0, total)])"
   ]
  },
  {
   "cell_type": "code",
   "execution_count": 21,
   "metadata": {},
   "outputs": [
    {
     "name": "stdout",
     "output_type": "stream",
     "text": [
      "Dia da semana correspondente ao vencimento da fatura: sexta\n",
      "Data de vencimento da fatura: 06/09/2024\n",
      "Data de fechamento da fatura: 28/08/2024\n"
     ]
    }
   ],
   "source": [
    "from datetime import datetime, timedelta\n",
    "import calendar\n",
    "\n",
    "payment_day = 6\n",
    "\n",
    "#actual_month = datetime.now().month\n",
    "actual_month = 8\n",
    "next_month = actual_month + 1\n",
    "payment_date = datetime(datetime.now().year, next_month, payment_day)\n",
    "\n",
    "# Checando se a data de fechamento está em um final de semana\n",
    "week = [\"segunda\", \"terça\", \"quarta\", \"quinta\", \"sexta\", \"sábado\", \"domingo\"]\n",
    "weekday = calendar.weekday(payment_date.year, payment_date.month, payment_date.day)\n",
    "print(f\"Dia da semana correspondente ao vencimento da fatura: {week[weekday]}\")\n",
    "if weekday == 5:\n",
    "\t# if weekday is saturday, closing date is moving to monday\n",
    "\tpayment_day = 8\n",
    "elif weekday == 6:\n",
    "\t# if weekday is sunday, closing date is moving to monday\n",
    "\tpayment_day = 7\n",
    "\n",
    "\n",
    "\n",
    "# A partir da data de pagamento da fatura, subtraia X dias e você terá a data de fechamento da fatura\n",
    "payment_date = datetime(datetime.now().year, next_month, payment_day)\n",
    "print_date = payment_date.strftime(\"%d/%m/%Y\")\n",
    "print(f\"Data de vencimento da fatura: {print_date}\")\n",
    "\n",
    "if calendar.monthrange(datetime.now().year, actual_month)[1] == 31:\n",
    "\tclosing_date = payment_date - timedelta(days=9)\n",
    "else:\n",
    "\tclosing_date = payment_date - timedelta(days=8)\n",
    "\n",
    "print_date = closing_date.strftime(\"%d/%m/%Y\")\n",
    "print(f\"Data de fechamento da fatura: {print_date}\")"
   ]
  },
  {
   "cell_type": "code",
   "execution_count": 7,
   "metadata": {},
   "outputs": [
    {
     "name": "stdout",
     "output_type": "stream",
     "text": [
      "['2024-02-16T21:33:26Z', '2024-03-17T21:33:26Z', '2024-04-16T21:33:26Z']\n"
     ]
    }
   ],
   "source": [
    "from datetime import datetime, timedelta\n",
    "\n",
    "total_charges = 3\n",
    "tt = datetime.now()\n",
    "\n",
    "out = []\n",
    "charges = { \"amount\": 30}\n",
    "\n",
    "for c in range(0, total_charges):\n",
    "\tta = charges.get(\"ammount\")\n",
    "\n",
    "\tnew_tt = tt\n",
    "\tif total_charges > 1 and c > 0:\n",
    "\t\tnext_days = 30*c\n",
    "\t\tnew_tt = tt + timedelta(days=next_days)\n",
    "\t\n",
    "\tout.append(new_tt.strftime(\"%Y-%m-%dT%H:%M:%SZ\"))\n",
    "\n",
    "print([element for element in out])\n",
    "\t\t\n"
   ]
  },
  {
   "cell_type": "code",
   "execution_count": 4,
   "metadata": {},
   "outputs": [
    {
     "name": "stdout",
     "output_type": "stream",
     "text": [
      "0\n"
     ]
    }
   ],
   "source": [
    "import calendar\n",
    "from datetime import datetime, timedelta\n",
    "\n",
    "print(calendar.weekday(datetime.now().year, datetime.now().month, datetime.now().day))"
   ]
  }
 ],
 "metadata": {
  "kernelspec": {
   "display_name": "Python 3",
   "language": "python",
   "name": "python3"
  },
  "language_info": {
   "codemirror_mode": {
    "name": "ipython",
    "version": 3
   },
   "file_extension": ".py",
   "mimetype": "text/x-python",
   "name": "python",
   "nbconvert_exporter": "python",
   "pygments_lexer": "ipython3",
   "version": "3.8.10"
  }
 },
 "nbformat": 4,
 "nbformat_minor": 2
}
